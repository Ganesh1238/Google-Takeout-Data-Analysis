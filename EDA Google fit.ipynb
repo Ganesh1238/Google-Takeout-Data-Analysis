{
 "cells": [
  {
   "cell_type": "code",
   "execution_count": 30,
   "metadata": {
    "collapsed": true
   },
   "outputs": [],
   "source": [
    "import pandas as pd\n",
    "import seaborn as sns\n",
    "import datetime\n",
    "import numpy as np\n",
    "from matplotlib import pyplot as plt\n",
    "import seaborn as sns\n",
    "\n",
    "pd.options.mode.chained_assignment = None  # default='warn'\n",
    "\n",
    "%matplotlib inline"
   ]
  },
  {
   "cell_type": "markdown",
   "metadata": {},
   "source": [
    "## Getting Browser History Data"
   ]
  },
  {
   "cell_type": "code",
   "execution_count": 43,
   "metadata": {},
   "outputs": [
    {
     "name": "stdout",
     "output_type": "stream",
     "text": [
      "(549, 18)\n"
     ]
    },
    {
     "data": {
      "text/html": [
       "<div>\n",
       "<style>\n",
       "    .dataframe thead tr:only-child th {\n",
       "        text-align: right;\n",
       "    }\n",
       "\n",
       "    .dataframe thead th {\n",
       "        text-align: left;\n",
       "    }\n",
       "\n",
       "    .dataframe tbody tr th {\n",
       "        vertical-align: top;\n",
       "    }\n",
       "</style>\n",
       "<table border=\"1\" class=\"dataframe\">\n",
       "  <thead>\n",
       "    <tr style=\"text-align: right;\">\n",
       "      <th></th>\n",
       "      <th>Date</th>\n",
       "      <th>Calories (kcal)</th>\n",
       "      <th>Distance (m)</th>\n",
       "      <th>Low latitude (deg)</th>\n",
       "      <th>Low longitude (deg)</th>\n",
       "      <th>High latitude (deg)</th>\n",
       "      <th>High longitude (deg)</th>\n",
       "      <th>Average speed (m/s)</th>\n",
       "      <th>Max speed (m/s)</th>\n",
       "      <th>Min speed (m/s)</th>\n",
       "      <th>Step count</th>\n",
       "      <th>Average weight (kg)</th>\n",
       "      <th>Max weight (kg)</th>\n",
       "      <th>Min weight (kg)</th>\n",
       "      <th>Biking duration (ms)</th>\n",
       "      <th>Inactive duration (ms)</th>\n",
       "      <th>Walking duration (ms)</th>\n",
       "      <th>Running duration (ms)</th>\n",
       "    </tr>\n",
       "  </thead>\n",
       "  <tbody>\n",
       "    <tr>\n",
       "      <th>0</th>\n",
       "      <td>2015-08-26</td>\n",
       "      <td>1077.768677</td>\n",
       "      <td>NaN</td>\n",
       "      <td>NaN</td>\n",
       "      <td>NaN</td>\n",
       "      <td>NaN</td>\n",
       "      <td>NaN</td>\n",
       "      <td>NaN</td>\n",
       "      <td>NaN</td>\n",
       "      <td>NaN</td>\n",
       "      <td>NaN</td>\n",
       "      <td>NaN</td>\n",
       "      <td>NaN</td>\n",
       "      <td>NaN</td>\n",
       "      <td>NaN</td>\n",
       "      <td>NaN</td>\n",
       "      <td>NaN</td>\n",
       "      <td>NaN</td>\n",
       "    </tr>\n",
       "    <tr>\n",
       "      <th>1</th>\n",
       "      <td>2015-08-27</td>\n",
       "      <td>1593.249878</td>\n",
       "      <td>NaN</td>\n",
       "      <td>NaN</td>\n",
       "      <td>NaN</td>\n",
       "      <td>NaN</td>\n",
       "      <td>NaN</td>\n",
       "      <td>NaN</td>\n",
       "      <td>NaN</td>\n",
       "      <td>NaN</td>\n",
       "      <td>NaN</td>\n",
       "      <td>NaN</td>\n",
       "      <td>NaN</td>\n",
       "      <td>NaN</td>\n",
       "      <td>NaN</td>\n",
       "      <td>NaN</td>\n",
       "      <td>NaN</td>\n",
       "      <td>NaN</td>\n",
       "    </tr>\n",
       "    <tr>\n",
       "      <th>2</th>\n",
       "      <td>2015-08-28</td>\n",
       "      <td>1593.249878</td>\n",
       "      <td>NaN</td>\n",
       "      <td>NaN</td>\n",
       "      <td>NaN</td>\n",
       "      <td>NaN</td>\n",
       "      <td>NaN</td>\n",
       "      <td>NaN</td>\n",
       "      <td>NaN</td>\n",
       "      <td>NaN</td>\n",
       "      <td>NaN</td>\n",
       "      <td>NaN</td>\n",
       "      <td>NaN</td>\n",
       "      <td>NaN</td>\n",
       "      <td>NaN</td>\n",
       "      <td>NaN</td>\n",
       "      <td>NaN</td>\n",
       "      <td>NaN</td>\n",
       "    </tr>\n",
       "    <tr>\n",
       "      <th>3</th>\n",
       "      <td>2015-08-29</td>\n",
       "      <td>1593.249878</td>\n",
       "      <td>NaN</td>\n",
       "      <td>NaN</td>\n",
       "      <td>NaN</td>\n",
       "      <td>NaN</td>\n",
       "      <td>NaN</td>\n",
       "      <td>NaN</td>\n",
       "      <td>NaN</td>\n",
       "      <td>NaN</td>\n",
       "      <td>NaN</td>\n",
       "      <td>NaN</td>\n",
       "      <td>NaN</td>\n",
       "      <td>NaN</td>\n",
       "      <td>NaN</td>\n",
       "      <td>NaN</td>\n",
       "      <td>NaN</td>\n",
       "      <td>NaN</td>\n",
       "    </tr>\n",
       "    <tr>\n",
       "      <th>4</th>\n",
       "      <td>2015-08-30</td>\n",
       "      <td>1593.249878</td>\n",
       "      <td>NaN</td>\n",
       "      <td>NaN</td>\n",
       "      <td>NaN</td>\n",
       "      <td>NaN</td>\n",
       "      <td>NaN</td>\n",
       "      <td>NaN</td>\n",
       "      <td>NaN</td>\n",
       "      <td>NaN</td>\n",
       "      <td>NaN</td>\n",
       "      <td>NaN</td>\n",
       "      <td>NaN</td>\n",
       "      <td>NaN</td>\n",
       "      <td>NaN</td>\n",
       "      <td>NaN</td>\n",
       "      <td>NaN</td>\n",
       "      <td>NaN</td>\n",
       "    </tr>\n",
       "  </tbody>\n",
       "</table>\n",
       "</div>"
      ],
      "text/plain": [
       "         Date  Calories (kcal)  Distance (m)  Low latitude (deg)  \\\n",
       "0  2015-08-26      1077.768677           NaN                 NaN   \n",
       "1  2015-08-27      1593.249878           NaN                 NaN   \n",
       "2  2015-08-28      1593.249878           NaN                 NaN   \n",
       "3  2015-08-29      1593.249878           NaN                 NaN   \n",
       "4  2015-08-30      1593.249878           NaN                 NaN   \n",
       "\n",
       "   Low longitude (deg)  High latitude (deg)  High longitude (deg)  \\\n",
       "0                  NaN                  NaN                   NaN   \n",
       "1                  NaN                  NaN                   NaN   \n",
       "2                  NaN                  NaN                   NaN   \n",
       "3                  NaN                  NaN                   NaN   \n",
       "4                  NaN                  NaN                   NaN   \n",
       "\n",
       "   Average speed (m/s)  Max speed (m/s)  Min speed (m/s)  Step count  \\\n",
       "0                  NaN              NaN              NaN         NaN   \n",
       "1                  NaN              NaN              NaN         NaN   \n",
       "2                  NaN              NaN              NaN         NaN   \n",
       "3                  NaN              NaN              NaN         NaN   \n",
       "4                  NaN              NaN              NaN         NaN   \n",
       "\n",
       "   Average weight (kg)  Max weight (kg)  Min weight (kg)  \\\n",
       "0                  NaN              NaN              NaN   \n",
       "1                  NaN              NaN              NaN   \n",
       "2                  NaN              NaN              NaN   \n",
       "3                  NaN              NaN              NaN   \n",
       "4                  NaN              NaN              NaN   \n",
       "\n",
       "   Biking duration (ms)  Inactive duration (ms)  Walking duration (ms)  \\\n",
       "0                   NaN                     NaN                    NaN   \n",
       "1                   NaN                     NaN                    NaN   \n",
       "2                   NaN                     NaN                    NaN   \n",
       "3                   NaN                     NaN                    NaN   \n",
       "4                   NaN                     NaN                    NaN   \n",
       "\n",
       "   Running duration (ms)  \n",
       "0                    NaN  \n",
       "1                    NaN  \n",
       "2                    NaN  \n",
       "3                    NaN  \n",
       "4                    NaN  "
      ]
     },
     "execution_count": 43,
     "metadata": {},
     "output_type": "execute_result"
    }
   ],
   "source": [
    "df = pd.read_csv('Takeout\\Fit\\Daily Summaries.csv', encoding='utf8')\n",
    "print(df.shape)\n",
    "df.head()   "
   ]
  },
  {
   "cell_type": "code",
   "execution_count": 47,
   "metadata": {},
   "outputs": [
    {
     "data": {
      "text/html": [
       "<div>\n",
       "<style>\n",
       "    .dataframe thead tr:only-child th {\n",
       "        text-align: right;\n",
       "    }\n",
       "\n",
       "    .dataframe thead th {\n",
       "        text-align: left;\n",
       "    }\n",
       "\n",
       "    .dataframe tbody tr th {\n",
       "        vertical-align: top;\n",
       "    }\n",
       "</style>\n",
       "<table border=\"1\" class=\"dataframe\">\n",
       "  <thead>\n",
       "    <tr style=\"text-align: right;\">\n",
       "      <th></th>\n",
       "      <th>% Missing value</th>\n",
       "    </tr>\n",
       "  </thead>\n",
       "  <tbody>\n",
       "    <tr>\n",
       "      <th>Date</th>\n",
       "      <td>0.00</td>\n",
       "    </tr>\n",
       "    <tr>\n",
       "      <th>Calories (kcal)</th>\n",
       "      <td>0.00</td>\n",
       "    </tr>\n",
       "    <tr>\n",
       "      <th>Distance (m)</th>\n",
       "      <td>6.38</td>\n",
       "    </tr>\n",
       "    <tr>\n",
       "      <th>Low latitude (deg)</th>\n",
       "      <td>46.45</td>\n",
       "    </tr>\n",
       "    <tr>\n",
       "      <th>Low longitude (deg)</th>\n",
       "      <td>46.45</td>\n",
       "    </tr>\n",
       "    <tr>\n",
       "      <th>High latitude (deg)</th>\n",
       "      <td>46.45</td>\n",
       "    </tr>\n",
       "    <tr>\n",
       "      <th>High longitude (deg)</th>\n",
       "      <td>46.45</td>\n",
       "    </tr>\n",
       "    <tr>\n",
       "      <th>Average speed (m/s)</th>\n",
       "      <td>56.47</td>\n",
       "    </tr>\n",
       "    <tr>\n",
       "      <th>Max speed (m/s)</th>\n",
       "      <td>56.47</td>\n",
       "    </tr>\n",
       "    <tr>\n",
       "      <th>Min speed (m/s)</th>\n",
       "      <td>56.47</td>\n",
       "    </tr>\n",
       "    <tr>\n",
       "      <th>Step count</th>\n",
       "      <td>5.65</td>\n",
       "    </tr>\n",
       "    <tr>\n",
       "      <th>Average weight (kg)</th>\n",
       "      <td>99.64</td>\n",
       "    </tr>\n",
       "    <tr>\n",
       "      <th>Max weight (kg)</th>\n",
       "      <td>99.64</td>\n",
       "    </tr>\n",
       "    <tr>\n",
       "      <th>Min weight (kg)</th>\n",
       "      <td>99.64</td>\n",
       "    </tr>\n",
       "    <tr>\n",
       "      <th>Biking duration (ms)</th>\n",
       "      <td>90.35</td>\n",
       "    </tr>\n",
       "    <tr>\n",
       "      <th>Inactive duration (ms)</th>\n",
       "      <td>5.28</td>\n",
       "    </tr>\n",
       "    <tr>\n",
       "      <th>Walking duration (ms)</th>\n",
       "      <td>6.38</td>\n",
       "    </tr>\n",
       "    <tr>\n",
       "      <th>Running duration (ms)</th>\n",
       "      <td>94.72</td>\n",
       "    </tr>\n",
       "  </tbody>\n",
       "</table>\n",
       "</div>"
      ],
      "text/plain": [
       "                        % Missing value\n",
       "Date                               0.00\n",
       "Calories (kcal)                    0.00\n",
       "Distance (m)                       6.38\n",
       "Low latitude (deg)                46.45\n",
       "Low longitude (deg)               46.45\n",
       "High latitude (deg)               46.45\n",
       "High longitude (deg)              46.45\n",
       "Average speed (m/s)               56.47\n",
       "Max speed (m/s)                   56.47\n",
       "Min speed (m/s)                   56.47\n",
       "Step count                         5.65\n",
       "Average weight (kg)               99.64\n",
       "Max weight (kg)                   99.64\n",
       "Min weight (kg)                   99.64\n",
       "Biking duration (ms)              90.35\n",
       "Inactive duration (ms)             5.28\n",
       "Walking duration (ms)              6.38\n",
       "Running duration (ms)             94.72"
      ]
     },
     "execution_count": 47,
     "metadata": {},
     "output_type": "execute_result"
    }
   ],
   "source": [
    "# percent of null in each column\n",
    "\n",
    "pd.DataFrame(df.isnull().sum()/df.shape[0]*100, columns=['% Missing value']).round(2)"
   ]
  },
  {
   "cell_type": "code",
   "execution_count": 13,
   "metadata": {},
   "outputs": [
    {
     "name": "stdout",
     "output_type": "stream",
     "text": [
      "<class 'pandas.core.frame.DataFrame'>\n",
      "RangeIndex: 549 entries, 0 to 548\n",
      "Data columns (total 5 columns):\n",
      "Date                   549 non-null object\n",
      "Calories (kcal)        549 non-null float64\n",
      "Distance (m)           514 non-null float64\n",
      "Step count             518 non-null float64\n",
      "Average weight (kg)    2 non-null float64\n",
      "dtypes: float64(4), object(1)\n",
      "memory usage: 21.5+ KB\n"
     ]
    }
   ],
   "source": [
    "#page_transition: Contains info on the type of page open like reload, type & enter, link open etc.\n",
    "\n",
    "df = df[['Date', 'Calories (kcal)', 'Distance (m)', 'Step count', 'Average weight (kg)']]\n",
    "df.info()"
   ]
  },
  {
   "cell_type": "code",
   "execution_count": 15,
   "metadata": {},
   "outputs": [
    {
     "name": "stderr",
     "output_type": "stream",
     "text": [
      "C:\\Users\\gvghonga\\AppData\\Local\\Continuum\\Anaconda3\\lib\\site-packages\\pandas\\core\\internals.py:3224: FutureWarning: Passing in 'datetime64' dtype with no frequency is deprecated and will raise in a future version. Please pass in 'datetime64[ns]' instead.\n",
      "  return self.apply('astype', dtype=dtype, **kwargs)\n"
     ]
    }
   ],
   "source": [
    "df.Date = df.Date.astype(np.datetime64)"
   ]
  },
  {
   "cell_type": "markdown",
   "metadata": {},
   "source": [
    "## Extracting/Extrapolating new columns(features):"
   ]
  },
  {
   "cell_type": "code",
   "execution_count": 17,
   "metadata": {
    "collapsed": true
   },
   "outputs": [],
   "source": [
    "days_arr = [\"Mon\",\"Tue\", \"Wed\", \"Thu\", \"Fri\", \"Sat\", \"Sun\"]\n",
    "\n",
    "def get_day_of_week(x):\n",
    "    return days_arr[x.weekday()]\n",
    "\n",
    "def get_month(x):\n",
    "    return x.month\n",
    "\n",
    "def get_year(x):\n",
    "    return x.year\n",
    "\n",
    "def get_hour(x):\n",
    "    return x.hour\n",
    "\n",
    "def get_week(x):\n",
    "    return x.isocalendar()[1]\n",
    "\n",
    "def is_weekend(x):\n",
    "    if x in ['Sat', 'Sun']:\n",
    "        return 'Y'\n",
    "    else:\n",
    "        return 'N'"
   ]
  },
  {
   "cell_type": "code",
   "execution_count": 39,
   "metadata": {},
   "outputs": [],
   "source": [
    "df['day'] = pd.to_datetime(df.Date).dt.day\n",
    "df['year'] = pd.to_datetime(df.Date).dt.year\n",
    "df['month'] = pd.to_datetime(df.Date).dt.month\n",
    "df['weekday'] = pd.to_datetime(df.Date).dt.weekday\n",
    "df['year_month']=df.apply(lambda x:'{}_{}'.format(str(x['year']),str(x['month'])),axis=1)"
   ]
  },
  {
   "cell_type": "code",
   "execution_count": 19,
   "metadata": {
    "collapsed": true
   },
   "outputs": [],
   "source": [
    "df['is_weekend'] = df['day'].apply(is_weekend)"
   ]
  },
  {
   "cell_type": "code",
   "execution_count": 21,
   "metadata": {},
   "outputs": [
    {
     "data": {
      "text/plain": [
       "(518, 10)"
      ]
     },
     "execution_count": 21,
     "metadata": {},
     "output_type": "execute_result"
    }
   ],
   "source": [
    "df = df[~pd.isnull(df['Step count'])]\n",
    "df.shape"
   ]
  },
  {
   "cell_type": "code",
   "execution_count": 27,
   "metadata": {},
   "outputs": [],
   "source": [
    "df['Distance (m)'] = np.round(df['Distance (m)'], 2)\n",
    "df['Calories (kcal)'] = np.round(df['Calories (kcal)'], 2)"
   ]
  },
  {
   "cell_type": "code",
   "execution_count": 28,
   "metadata": {},
   "outputs": [
    {
     "data": {
      "text/html": [
       "<div>\n",
       "<style>\n",
       "    .dataframe thead tr:only-child th {\n",
       "        text-align: right;\n",
       "    }\n",
       "\n",
       "    .dataframe thead th {\n",
       "        text-align: left;\n",
       "    }\n",
       "\n",
       "    .dataframe tbody tr th {\n",
       "        vertical-align: top;\n",
       "    }\n",
       "</style>\n",
       "<table border=\"1\" class=\"dataframe\">\n",
       "  <thead>\n",
       "    <tr style=\"text-align: right;\">\n",
       "      <th></th>\n",
       "      <th>Date</th>\n",
       "      <th>Calories (kcal)</th>\n",
       "      <th>Distance (m)</th>\n",
       "      <th>Step count</th>\n",
       "      <th>Average weight (kg)</th>\n",
       "      <th>day</th>\n",
       "      <th>year</th>\n",
       "      <th>month</th>\n",
       "      <th>weekday</th>\n",
       "      <th>is_weekend</th>\n",
       "    </tr>\n",
       "  </thead>\n",
       "  <tbody>\n",
       "    <tr>\n",
       "      <th>13</th>\n",
       "      <td>2015-09-09</td>\n",
       "      <td>1290.37</td>\n",
       "      <td>3310.98</td>\n",
       "      <td>5154.0</td>\n",
       "      <td>74.0</td>\n",
       "      <td>9</td>\n",
       "      <td>2015</td>\n",
       "      <td>9</td>\n",
       "      <td>2</td>\n",
       "      <td>N</td>\n",
       "    </tr>\n",
       "    <tr>\n",
       "      <th>14</th>\n",
       "      <td>2015-09-10</td>\n",
       "      <td>1873.62</td>\n",
       "      <td>3292.64</td>\n",
       "      <td>6458.0</td>\n",
       "      <td>NaN</td>\n",
       "      <td>10</td>\n",
       "      <td>2015</td>\n",
       "      <td>9</td>\n",
       "      <td>3</td>\n",
       "      <td>N</td>\n",
       "    </tr>\n",
       "    <tr>\n",
       "      <th>15</th>\n",
       "      <td>2015-09-11</td>\n",
       "      <td>2387.05</td>\n",
       "      <td>6695.96</td>\n",
       "      <td>11486.0</td>\n",
       "      <td>NaN</td>\n",
       "      <td>11</td>\n",
       "      <td>2015</td>\n",
       "      <td>9</td>\n",
       "      <td>4</td>\n",
       "      <td>N</td>\n",
       "    </tr>\n",
       "    <tr>\n",
       "      <th>16</th>\n",
       "      <td>2015-09-12</td>\n",
       "      <td>1735.31</td>\n",
       "      <td>2412.98</td>\n",
       "      <td>4131.0</td>\n",
       "      <td>NaN</td>\n",
       "      <td>12</td>\n",
       "      <td>2015</td>\n",
       "      <td>9</td>\n",
       "      <td>5</td>\n",
       "      <td>N</td>\n",
       "    </tr>\n",
       "    <tr>\n",
       "      <th>17</th>\n",
       "      <td>2015-09-13</td>\n",
       "      <td>1958.76</td>\n",
       "      <td>142.79</td>\n",
       "      <td>1322.0</td>\n",
       "      <td>NaN</td>\n",
       "      <td>13</td>\n",
       "      <td>2015</td>\n",
       "      <td>9</td>\n",
       "      <td>6</td>\n",
       "      <td>N</td>\n",
       "    </tr>\n",
       "  </tbody>\n",
       "</table>\n",
       "</div>"
      ],
      "text/plain": [
       "         Date  Calories (kcal)  Distance (m)  Step count  Average weight (kg)  \\\n",
       "13 2015-09-09          1290.37       3310.98      5154.0                 74.0   \n",
       "14 2015-09-10          1873.62       3292.64      6458.0                  NaN   \n",
       "15 2015-09-11          2387.05       6695.96     11486.0                  NaN   \n",
       "16 2015-09-12          1735.31       2412.98      4131.0                  NaN   \n",
       "17 2015-09-13          1958.76        142.79      1322.0                  NaN   \n",
       "\n",
       "    day  year  month  weekday is_weekend  \n",
       "13    9  2015      9        2          N  \n",
       "14   10  2015      9        3          N  \n",
       "15   11  2015      9        4          N  \n",
       "16   12  2015      9        5          N  \n",
       "17   13  2015      9        6          N  "
      ]
     },
     "execution_count": 28,
     "metadata": {},
     "output_type": "execute_result"
    }
   ],
   "source": [
    "df.head()"
   ]
  },
  {
   "cell_type": "code",
   "execution_count": 32,
   "metadata": {},
   "outputs": [
    {
     "data": {
      "text/plain": [
       "<matplotlib.figure.Figure at 0x2081e0fe940>"
      ]
     },
     "metadata": {},
     "output_type": "display_data"
    },
    {
     "data": {
      "image/png": "[encoded data removed]",
      "text/plain": [
       "<matplotlib.figure.Figure at 0x2081e400828>"
      ]
     },
     "metadata": {},
     "output_type": "display_data"
    }
   ],
   "source": [
    "plt.figure(figsize=(100,5))\n",
    "g = sns.factorplot(x='weekday', y='Step count', data=df, col='year', kind='bar', estimator=sum,ci=None,size=4,aspect=1)"
   ]
  },
  {
   "cell_type": "code",
   "execution_count": 34,
   "metadata": {},
   "outputs": [
    {
     "data": {
      "text/plain": [
       "<matplotlib.figure.Figure at 0x2081ee18828>"
      ]
     },
     "metadata": {},
     "output_type": "display_data"
    },
    {
     "data": {
      "image/png": "[encoded data removed]",
      "text/plain": [
       "<matplotlib.figure.Figure at 0x2081ee50710>"
      ]
     },
     "metadata": {},
     "output_type": "display_data"
    }
   ],
   "source": [
    "plt.figure(figsize=(100,5))\n",
    "g = sns.factorplot(x='weekday', y='Calories (kcal)', data=df, col='year', kind='bar', estimator=sum,ci=None,size=4,aspect=1)"
   ]
  },
  {
   "cell_type": "code",
   "execution_count": 35,
   "metadata": {},
   "outputs": [
    {
     "data": {
      "text/plain": [
       "<matplotlib.figure.Figure at 0x208219486d8>"
      ]
     },
     "metadata": {},
     "output_type": "display_data"
    },
    {
     "data": {
      "image/png": "[encoded data removed]",
      "text/plain": [
       "<matplotlib.figure.Figure at 0x20821955da0>"
      ]
     },
     "metadata": {},
     "output_type": "display_data"
    }
   ],
   "source": [
    "plt.figure(figsize=(100,5))\n",
    "g = sns.factorplot(x='weekday', y='Distance (m)', data=df, col='year', kind='bar', estimator=sum,ci=None,size=4,aspect=1)"
   ]
  },
  {
   "cell_type": "code",
   "execution_count": 42,
   "metadata": {},
   "outputs": [
    {
     "data": {
      "text/plain": [
       "<matplotlib.figure.Figure at 0x2082121ccc0>"
      ]
     },
     "metadata": {},
     "output_type": "display_data"
    },
    {
     "data": {
      "image/png": "[encoded data removed]",
      "text/plain": [
       "<matplotlib.figure.Figure at 0x20821778c50>"
      ]
     },
     "metadata": {},
     "output_type": "display_data"
    }
   ],
   "source": [
    "plt.figure(figsize=(100,5))\n",
    "g = sns.factorplot(x='month', y='Distance (m)', data=df, col='year', kind='bar', estimator=sum,ci=None,size=4,aspect=1)"
   ]
  },
  {
   "cell_type": "code",
   "execution_count": null,
   "metadata": {
    "collapsed": true
   },
   "outputs": [],
   "source": []
  }
 ],
 "metadata": {
  "kernelspec": {
   "display_name": "Python 3",
   "language": "python",
   "name": "python3"
  },
  "language_info": {
   "codemirror_mode": {
    "name": "ipython",
    "version": 3
   },
   "file_extension": ".py",
   "mimetype": "text/x-python",
   "name": "python",
   "nbconvert_exporter": "python",
   "pygments_lexer": "ipython3",
   "version": "3.6.3"
  }
 },
 "nbformat": 4,
 "nbformat_minor": 2
}
