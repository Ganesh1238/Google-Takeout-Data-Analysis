{
 "cells": [
  {
   "cell_type": "code",
   "execution_count": 122,
   "metadata": {},
   "outputs": [],
   "source": [
    "import pandas as pd\n",
    "import seaborn as sns\n",
    "import os\n",
    "import json\n",
    "import datetime\n",
    "import tldextract\n",
    "\n",
    "pd.options.mode.chained_assignment = None  # default='warn'\n",
    "\n",
    "%matplotlib inline"
   ]
  },
  {
   "cell_type": "markdown",
   "metadata": {},
   "source": [
    "## Getting Browser History Data"
   ]
  },
  {
   "cell_type": "code",
   "execution_count": 67,
   "metadata": {},
   "outputs": [
    {
     "name": "stdout",
     "output_type": "stream",
     "text": [
      "<class '_io.TextIOWrapper'>\n"
     ]
    },
    {
     "data": {
      "text/html": [
       "<div>\n",
       "<style>\n",
       "    .dataframe thead tr:only-child th {\n",
       "        text-align: right;\n",
       "    }\n",
       "\n",
       "    .dataframe thead th {\n",
       "        text-align: left;\n",
       "    }\n",
       "\n",
       "    .dataframe tbody tr th {\n",
       "        vertical-align: top;\n",
       "    }\n",
       "</style>\n",
       "<table border=\"1\" class=\"dataframe\">\n",
       "  <thead>\n",
       "    <tr style=\"text-align: right;\">\n",
       "      <th></th>\n",
       "      <th>page_transition</th>\n",
       "      <th>time_usec</th>\n",
       "      <th>title</th>\n",
       "      <th>url</th>\n",
       "    </tr>\n",
       "  </thead>\n",
       "  <tbody>\n",
       "    <tr>\n",
       "      <th>0</th>\n",
       "      <td>GENERATED</td>\n",
       "      <td>1517589953942148</td>\n",
       "      <td>scorpio price - Google Search</td>\n",
       "      <td>https://www.google.co.in/search?q=scorpio+pric...</td>\n",
       "    </tr>\n",
       "    <tr>\n",
       "      <th>1</th>\n",
       "      <td>GENERATED</td>\n",
       "      <td>1517589952292445</td>\n",
       "      <td>seinfeld - Google Search</td>\n",
       "      <td>https://www.google.co.in/search?q=seinfeld&amp;oq=...</td>\n",
       "    </tr>\n",
       "    <tr>\n",
       "      <th>2</th>\n",
       "      <td>GENERATED</td>\n",
       "      <td>1517589941514500</td>\n",
       "      <td>poppies seeds - Google Search</td>\n",
       "      <td>https://www.google.co.in/search?q=poppies+seed...</td>\n",
       "    </tr>\n",
       "    <tr>\n",
       "      <th>3</th>\n",
       "      <td>LINK</td>\n",
       "      <td>1517589928735099</td>\n",
       "      <td>Buy Namaste India Poppy Seeds/Khus Khus 100 gm...</td>\n",
       "      <td>https://grofers.com/prn/Namaste-India-Poppy-Se...</td>\n",
       "    </tr>\n",
       "    <tr>\n",
       "      <th>4</th>\n",
       "      <td>GENERATED</td>\n",
       "      <td>1517589922281270</td>\n",
       "      <td>poppies seeds - Google Search</td>\n",
       "      <td>https://www.google.co.in/search?q=poppies+seed...</td>\n",
       "    </tr>\n",
       "  </tbody>\n",
       "</table>\n",
       "</div>"
      ],
      "text/plain": [
       "  page_transition         time_usec  \\\n",
       "0       GENERATED  1517589953942148   \n",
       "1       GENERATED  1517589952292445   \n",
       "2       GENERATED  1517589941514500   \n",
       "3            LINK  1517589928735099   \n",
       "4       GENERATED  1517589922281270   \n",
       "\n",
       "                                               title  \\\n",
       "0                      scorpio price - Google Search   \n",
       "1                           seinfeld - Google Search   \n",
       "2                      poppies seeds - Google Search   \n",
       "3  Buy Namaste India Poppy Seeds/Khus Khus 100 gm...   \n",
       "4                      poppies seeds - Google Search   \n",
       "\n",
       "                                                 url  \n",
       "0  https://www.google.co.in/search?q=scorpio+pric...  \n",
       "1  https://www.google.co.in/search?q=seinfeld&oq=...  \n",
       "2  https://www.google.co.in/search?q=poppies+seed...  \n",
       "3  https://grofers.com/prn/Namaste-India-Poppy-Se...  \n",
       "4  https://www.google.co.in/search?q=poppies+seed...  "
      ]
     },
     "execution_count": 67,
     "metadata": {},
     "output_type": "execute_result"
    }
   ],
   "source": [
    "with open('Takeout\\Chrome\\BrowserHistory.json', encoding='utf8') as f:\n",
    "    print(type(f))\n",
    "    data = json.loads(f.read())\n",
    "    df = pd.DataFrame(data['Browser History'])\n",
    "    # A possible param if differentiation is needed b/w different clients\n",
    "    \n",
    "df.drop('client_id', axis=1, inplace=True)\n",
    "# df.drop('favicon_url', axis=1, inplace=True)\n",
    "df.head()   "
   ]
  },
  {
   "cell_type": "code",
   "execution_count": 68,
   "metadata": {},
   "outputs": [
    {
     "data": {
      "text/plain": [
       "LINK             3814\n",
       "RELOAD            834\n",
       "GENERATED         384\n",
       "AUTO_TOPLEVEL     352\n",
       "AUTO_BOOKMARK     337\n",
       "FORM_SUBMIT       317\n",
       "TYPED              28\n",
       "Name: page_transition, dtype: int64"
      ]
     },
     "execution_count": 68,
     "metadata": {},
     "output_type": "execute_result"
    }
   ],
   "source": [
    "df['page_transition'].value_counts()"
   ]
  },
  {
   "cell_type": "code",
   "execution_count": 69,
   "metadata": {},
   "outputs": [
    {
     "data": {
      "text/plain": [
       "(4226, 4)"
      ]
     },
     "execution_count": 69,
     "metadata": {},
     "output_type": "execute_result"
    }
   ],
   "source": [
    "#page_transition: Contains info on the type of page open like reload, type & enter, link open etc.\n",
    "\n",
    "df1 = df[(df['page_transition'] == 'LINK') | (df['page_transition'] == 'TYPED') | (df['page_transition'] == 'GENERATED')]\n",
    "df1.shape"
   ]
  },
  {
   "cell_type": "code",
   "execution_count": 70,
   "metadata": {},
   "outputs": [
    {
     "data": {
      "text/html": [
       "<div>\n",
       "<style>\n",
       "    .dataframe thead tr:only-child th {\n",
       "        text-align: right;\n",
       "    }\n",
       "\n",
       "    .dataframe thead th {\n",
       "        text-align: left;\n",
       "    }\n",
       "\n",
       "    .dataframe tbody tr th {\n",
       "        vertical-align: top;\n",
       "    }\n",
       "</style>\n",
       "<table border=\"1\" class=\"dataframe\">\n",
       "  <thead>\n",
       "    <tr style=\"text-align: right;\">\n",
       "      <th></th>\n",
       "      <th>page_transition</th>\n",
       "      <th>time_usec</th>\n",
       "      <th>title</th>\n",
       "      <th>url</th>\n",
       "    </tr>\n",
       "  </thead>\n",
       "  <tbody>\n",
       "    <tr>\n",
       "      <th>0</th>\n",
       "      <td>GENERATED</td>\n",
       "      <td>1517589953942148</td>\n",
       "      <td>scorpio price - Google Search</td>\n",
       "      <td>https://www.google.co.in/search?q=scorpio+pric...</td>\n",
       "    </tr>\n",
       "    <tr>\n",
       "      <th>1</th>\n",
       "      <td>GENERATED</td>\n",
       "      <td>1517589952292445</td>\n",
       "      <td>seinfeld - Google Search</td>\n",
       "      <td>https://www.google.co.in/search?q=seinfeld&amp;oq=...</td>\n",
       "    </tr>\n",
       "    <tr>\n",
       "      <th>2</th>\n",
       "      <td>GENERATED</td>\n",
       "      <td>1517589941514500</td>\n",
       "      <td>poppies seeds - Google Search</td>\n",
       "      <td>https://www.google.co.in/search?q=poppies+seed...</td>\n",
       "    </tr>\n",
       "    <tr>\n",
       "      <th>3</th>\n",
       "      <td>LINK</td>\n",
       "      <td>1517589928735099</td>\n",
       "      <td>Buy Namaste India Poppy Seeds/Khus Khus 100 gm...</td>\n",
       "      <td>https://grofers.com/prn/Namaste-India-Poppy-Se...</td>\n",
       "    </tr>\n",
       "    <tr>\n",
       "      <th>4</th>\n",
       "      <td>GENERATED</td>\n",
       "      <td>1517589922281270</td>\n",
       "      <td>poppies seeds - Google Search</td>\n",
       "      <td>https://www.google.co.in/search?q=poppies+seed...</td>\n",
       "    </tr>\n",
       "  </tbody>\n",
       "</table>\n",
       "</div>"
      ],
      "text/plain": [
       "  page_transition         time_usec  \\\n",
       "0       GENERATED  1517589953942148   \n",
       "1       GENERATED  1517589952292445   \n",
       "2       GENERATED  1517589941514500   \n",
       "3            LINK  1517589928735099   \n",
       "4       GENERATED  1517589922281270   \n",
       "\n",
       "                                               title  \\\n",
       "0                      scorpio price - Google Search   \n",
       "1                           seinfeld - Google Search   \n",
       "2                      poppies seeds - Google Search   \n",
       "3  Buy Namaste India Poppy Seeds/Khus Khus 100 gm...   \n",
       "4                      poppies seeds - Google Search   \n",
       "\n",
       "                                                 url  \n",
       "0  https://www.google.co.in/search?q=scorpio+pric...  \n",
       "1  https://www.google.co.in/search?q=seinfeld&oq=...  \n",
       "2  https://www.google.co.in/search?q=poppies+seed...  \n",
       "3  https://grofers.com/prn/Namaste-India-Poppy-Se...  \n",
       "4  https://www.google.co.in/search?q=poppies+seed...  "
      ]
     },
     "execution_count": 70,
     "metadata": {},
     "output_type": "execute_result"
    }
   ],
   "source": [
    "df1.head()"
   ]
  },
  {
   "cell_type": "code",
   "execution_count": 71,
   "metadata": {},
   "outputs": [
    {
     "data": {
      "text/plain": [
       "LINK         3814\n",
       "GENERATED     384\n",
       "TYPED          28\n",
       "Name: page_transition, dtype: int64"
      ]
     },
     "execution_count": 71,
     "metadata": {},
     "output_type": "execute_result"
    }
   ],
   "source": [
    "df1['page_transition'].value_counts()"
   ]
  },
  {
   "cell_type": "markdown",
   "metadata": {},
   "source": [
    "## Extracting/Extrapolating new columns(features):"
   ]
  },
  {
   "cell_type": "code",
   "execution_count": 124,
   "metadata": {},
   "outputs": [],
   "source": [
    "def convert_time(x):\n",
    "    return datetime.datetime.fromtimestamp(x/1000000)\n",
    "\n",
    "days_arr = [\"Mon\",\"Tue\", \"Wed\", \"Thu\", \"Fri\", \"Sat\", \"Sun\"]\n",
    "\n",
    "def get_day_of_week(x):\n",
    "    return days_arr[x.weekday()]\n",
    "\n",
    "def get_month(x):\n",
    "    return x.day\n",
    "\n",
    "def get_year(x):\n",
    "    return x.year\n",
    "\n",
    "def get_hour(x):\n",
    "    return x.hour\n",
    "\n",
    "def is_weekend(x):\n",
    "    if x in ['Sat', 'Sun']:\n",
    "        return 'Yes'\n",
    "    else:\n",
    "        return 'No'\n",
    "    \n",
    "def get_domain(x):\n",
    "    domain = tldextract.extract(x)[1]\n",
    "    sub_domain = tldextract.extract(x)[0]\n",
    "    if sub_domain == \"mail\":\n",
    "        return sub_domain + \".\" + domain\n",
    "    # Ugly hack to differentiate b/w drive.google.com and google.com\n",
    "    if domain == \"google\" and sub_domain==\"www\":\n",
    "        return \"google_search\" \n",
    "    return domain\n",
    "\n",
    "\n",
    "# time_usec column is picked and for each row, convert_time(row) is called. The result is stored in the same dataframe under column dt\n",
    "df1['dt'] = df1['time_usec'].apply(convert_time)\n",
    "df1['domain'] = df1['url'].apply(get_domain)"
   ]
  },
  {
   "cell_type": "code",
   "execution_count": 125,
   "metadata": {},
   "outputs": [],
   "source": [
    "df1['month'] = df1['dt'].apply(get_month)\n",
    "df1['year'] = df1['dt'].apply(get_year)\n",
    "df1['day'] = df1['dt'].apply(get_day_of_week)\n",
    "df1['hour'] = df1['dt'].apply(get_hour)"
   ]
  },
  {
   "cell_type": "code",
   "execution_count": 131,
   "metadata": {
    "collapsed": true
   },
   "outputs": [],
   "source": [
    "df1['is_weekend'] = df1['day'].apply(is_weekend)"
   ]
  },
  {
   "cell_type": "code",
   "execution_count": 132,
   "metadata": {},
   "outputs": [],
   "source": [
    "def get_category(x):\n",
    "    if x in [\"coursera\", \"udacity\", \"edx\", \"kaggle\", \"freecodecamp\"]:\n",
    "        return \"Learning\"\n",
    "    elif x in [\"ycombinator\", \"medium\", \"hackernoon\"]:\n",
    "        return \"TechReads\"\n",
    "    elif x in ['facebook', 'twitter']:\n",
    "        return \"Social_media\"\n",
    "    elif x in ['flipkart', 'amazon', 'ebay']:\n",
    "        return \"Shopping\"\n",
    "    else:\n",
    "        return \"Other\""
   ]
  },
  {
   "cell_type": "code",
   "execution_count": 133,
   "metadata": {},
   "outputs": [],
   "source": [
    "# Cluster popular domains into a category\n",
    "df1['category'] = df1['domain'].apply(get_category)"
   ]
  },
  {
   "cell_type": "code",
   "execution_count": 134,
   "metadata": {},
   "outputs": [
    {
     "data": {
      "text/plain": [
       "Social_media    2234\n",
       "Other           1904\n",
       "Shopping          76\n",
       "Learning           7\n",
       "TechReads          5\n",
       "Name: category, dtype: int64"
      ]
     },
     "execution_count": 134,
     "metadata": {},
     "output_type": "execute_result"
    }
   ],
   "source": [
    "df1.category.value_counts()"
   ]
  },
  {
   "cell_type": "code",
   "execution_count": 135,
   "metadata": {},
   "outputs": [
    {
     "data": {
      "text/plain": [
       "Index(['page_transition', 'time_usec', 'title', 'url', 'dt', 'domain',\n",
       "       'category', 'month', 'year', 'day', 'hour', 'is_weekend'],\n",
       "      dtype='object')"
      ]
     },
     "execution_count": 135,
     "metadata": {},
     "output_type": "execute_result"
    }
   ],
   "source": [
    "df1.columns"
   ]
  },
  {
   "cell_type": "code",
   "execution_count": 130,
   "metadata": {},
   "outputs": [
    {
     "data": {
      "text/plain": [
       "<matplotlib.axes._subplots.AxesSubplot at 0x1ef63214ac8>"
      ]
     },
     "execution_count": 130,
     "metadata": {},
     "output_type": "execute_result"
    },
    {
     "data": {
      "image/png": "[encoded data removed]",
      "text/plain": [
       "<matplotlib.figure.Figure at 0x1ef63216518>"
      ]
     },
     "metadata": {},
     "output_type": "display_data"
    }
   ],
   "source": [
    "sns.countplot(x='year', hue='category', data=df1)"
   ]
  },
  {
   "cell_type": "code",
   "execution_count": 140,
   "metadata": {},
   "outputs": [
    {
     "data": {
      "text/plain": [
       "<matplotlib.axes._subplots.AxesSubplot at 0x1ef640e9d68>"
      ]
     },
     "execution_count": 140,
     "metadata": {},
     "output_type": "execute_result"
    },
    {
     "data": {
      "image/png": "[encoded data removed]",
      "text/plain": [
       "<matplotlib.figure.Figure at 0x1ef630cc550>"
      ]
     },
     "metadata": {},
     "output_type": "display_data"
    }
   ],
   "source": [
    "sns.countplot(x='hour', hue='is_weekend', data=df1)"
   ]
  },
  {
   "cell_type": "code",
   "execution_count": null,
   "metadata": {
    "collapsed": true
   },
   "outputs": [],
   "source": []
  }
 ],
 "metadata": {
  "kernelspec": {
   "display_name": "Python 3",
   "language": "python",
   "name": "python3"
  },
  "language_info": {
   "codemirror_mode": {
    "name": "ipython",
    "version": 3
   },
   "file_extension": ".py",
   "mimetype": "text/x-python",
   "name": "python",
   "nbconvert_exporter": "python",
   "pygments_lexer": "ipython3",
   "version": "3.6.3"
  }
 },
 "nbformat": 4,
 "nbformat_minor": 2
}
